{
 "cells": [
  {
   "cell_type": "markdown",
   "metadata": {},
   "source": [
    "## Python Data Type: String - Exercises"
   ]
  },
  {
   "cell_type": "markdown",
   "metadata": {},
   "source": [
    "#### 1. Write a Python program to count the number of characters (character frequency) in a string \n",
    "* Sample String : google.com'\n",
    "* Expected Result : {'o': 3, 'g': 2, '.': 1, 'e': 1, 'l': 1, 'm': 1, 'c': 1}"
   ]
  },
  {
   "cell_type": "code",
   "execution_count": 3,
   "metadata": {},
   "outputs": [
    {
     "name": "stdout",
     "output_type": "stream",
     "text": [
      "Enter any string : google.com\n",
      "{'g': 2, 'o': 3, 'l': 1, 'e': 1, '.': 1, 'c': 1, 'm': 1}\n"
     ]
    }
   ],
   "source": [
    "from collections import Counter\n",
    "string = input(\"Enter any string : \")\n",
    "cnt = Counter(string)\n",
    "print(str(cnt))"
   ]
  },
  {
   "cell_type": "markdown",
   "metadata": {},
   "source": [
    "#### 2. Write a Python program to get a string from a given string where all occurrences of its first char have been changed to '$' ,except the first char itself\n",
    "\n",
    "* Sample String : 'restart'\n",
    "* Expected Result : 'resta$t' "
   ]
  },
  {
   "cell_type": "code",
   "execution_count": 4,
   "metadata": {},
   "outputs": [
    {
     "name": "stdout",
     "output_type": "stream",
     "text": [
      "Enter any string : restart\n",
      "resta$t\n"
     ]
    }
   ],
   "source": [
    "st=input(\"Enter any string : \")\n",
    "def ch(str1):\n",
    "  char = str1[0]\n",
    "  str1 = str1.replace(char, '$')\n",
    "  str1 = char + str1[1:]\n",
    "  return str1\n",
    "\n",
    "print(ch(st))"
   ]
  },
  {
   "cell_type": "markdown",
   "metadata": {},
   "source": [
    "#### 3. Write a Python function that takes a list of words and returns the length of the longest one\n"
   ]
  },
  {
   "cell_type": "code",
   "execution_count": 7,
   "metadata": {},
   "outputs": [
    {
     "name": "stdout",
     "output_type": "stream",
     "text": [
      "10\n"
     ]
    }
   ],
   "source": [
    "def longest_word(words_list):\n",
    "    word_len = []\n",
    "    for word in words_list:\n",
    "        word_len.append((len(word), word))\n",
    "    word_len.sort()\n",
    "    return word_len[-1][1]\n",
    "\n",
    "print(len(longest_word([\"JavaScript\", \"HTML\", \"React\"])))"
   ]
  },
  {
   "cell_type": "markdown",
   "metadata": {},
   "source": [
    "#### 4. Write a Python program to count the occurrences of each word in a given sentence"
   ]
  },
  {
   "cell_type": "code",
   "execution_count": 9,
   "metadata": {},
   "outputs": [
    {
     "name": "stdout",
     "output_type": "stream",
     "text": [
      "Enter any sentence : My name is Bond , James Bond\n",
      "{'My': 1, 'name': 1, 'is': 1, 'Bond': 2, ',': 1, 'James': 1}\n"
     ]
    }
   ],
   "source": [
    "from collections import Counter\n",
    "sentence = list(map(str,input(\"Enter any sentence : \").split()))\n",
    "cnt = Counter(sentence)\n",
    "print(dict(cnt))"
   ]
  },
  {
   "cell_type": "markdown",
   "metadata": {},
   "source": [
    "#### 5. Write a Python function to convert a given string to all uppercase if it contains at least 2 uppercase characters in the first 4 characters."
   ]
  },
  {
   "cell_type": "code",
   "execution_count": 17,
   "metadata": {},
   "outputs": [
    {
     "name": "stdout",
     "output_type": "stream",
     "text": [
      "Enter a word : PYthon\n",
      "PYTHON\n"
     ]
    }
   ],
   "source": [
    "def Uppercase(str1):\n",
    "    num_of_upper = 0\n",
    "    for letter in str1[:4]: \n",
    "        if letter.upper() == letter:\n",
    "            num_of_upper += 1\n",
    "    if num_of_upper >= 2:\n",
    "        return str1.upper()\n",
    "    return str1\n",
    "\n",
    "print(Uppercase(input(\"Enter a word : \")))"
   ]
  },
  {
   "cell_type": "markdown",
   "metadata": {},
   "source": [
    "#### 6. Write a Python program to count and display the vowels of a given text"
   ]
  },
  {
   "cell_type": "code",
   "execution_count": 18,
   "metadata": {},
   "outputs": [
    {
     "name": "stdout",
     "output_type": "stream",
     "text": [
      "Enter a word : Jupyter Notebook\n",
      "6\n",
      "['u', 'e', 'o', 'e', 'o', 'o']\n"
     ]
    }
   ],
   "source": [
    "def vowel(text):\n",
    "    vowels = \"aeiuoAEIOU\"\n",
    "    letters = [letter for letter in text if letter in vowels]\n",
    "    print(len(letters))\n",
    "    print(letters)\n",
    "\n",
    "vowel(input(\"Enter a word : \"))"
   ]
  },
  {
   "cell_type": "code",
   "execution_count": null,
   "metadata": {},
   "outputs": [],
   "source": [
    "## Python Data Type: List - Exercises"
   ]
  },
  {
   "cell_type": "markdown",
   "metadata": {},
   "source": [
    "#### 1. Write a Python program to check a list is empty or not\n"
   ]
  },
  {
   "cell_type": "code",
   "execution_count": 24,
   "metadata": {},
   "outputs": [
    {
     "name": "stdout",
     "output_type": "stream",
     "text": [
      "list is empty\n"
     ]
    }
   ],
   "source": [
    "l = []\n",
    "if l:\n",
    "    print(\"List is not empty\")\n",
    "else:\n",
    "    print(\"list is empty\")"
   ]
  },
  {
   "cell_type": "markdown",
   "metadata": {},
   "source": [
    "#### 2. Write a Python program to remove duplicates from a list.\n"
   ]
  },
  {
   "cell_type": "code",
   "execution_count": 25,
   "metadata": {},
   "outputs": [
    {
     "name": "stdout",
     "output_type": "stream",
     "text": [
      "Enter random numbers to form a list : 1 2 64 5 6 1 2 3 5 7 8 9 3 5 6 52 52 3 8 9\n",
      "[64, 1, 2, 3, 5, 6, 7, 8, 9, 52]\n"
     ]
    }
   ],
   "source": [
    "lis = list(map(int,input(\"Enter random numbers to form a list : \").split()))\n",
    "print(list(set(lis)))"
   ]
  },
  {
   "cell_type": "markdown",
   "metadata": {},
   "source": [
    "#### 3. Write a Python function that takes two lists and returns True if they have at least one common member\n"
   ]
  },
  {
   "cell_type": "code",
   "execution_count": 26,
   "metadata": {},
   "outputs": [
    {
     "name": "stdout",
     "output_type": "stream",
     "text": [
      "True\n"
     ]
    }
   ],
   "source": [
    "def commonMember(a, b): \n",
    "    if (set(a) & set(b)): \n",
    "        return True \n",
    "    else: \n",
    "        return False\n",
    "\n",
    "print(commonMember([3,7,9,15],[0,5,7,10,14]))"
   ]
  },
  {
   "cell_type": "markdown",
   "metadata": {},
   "source": [
    "#### 4. Write a Python program to get the difference between the two lists\n"
   ]
  },
  {
   "cell_type": "code",
   "execution_count": 1,
   "metadata": {},
   "outputs": [
    {
     "name": "stdout",
     "output_type": "stream",
     "text": [
      "Enter the elements of list 1 : 1 3 6 7 9 15 35 41\n",
      "Enter the elements of list 2 : 1 2 5 7 9 15 31 41\n",
      "[35, 3, 6]\n"
     ]
    }
   ],
   "source": [
    "l1 = list(map(int,input(\"Enter the elements of list 1 : \").split()))\n",
    "l2 = list(map(int,input(\"Enter the elements of list 2 : \").split()))\n",
    "print(list(set(l1)-set(l2)))"
   ]
  },
  {
   "cell_type": "markdown",
   "metadata": {},
   "source": [
    "#### 5. Write a Python program to find the second smallest number in a list\n"
   ]
  },
  {
   "cell_type": "code",
   "execution_count": 5,
   "metadata": {},
   "outputs": [
    {
     "name": "stdout",
     "output_type": "stream",
     "text": [
      "Enter the elements of the list : 1 2 3 4 5 6 7 8 \n",
      "2\n"
     ]
    }
   ],
   "source": [
    "l = list(map(int,input(\"Enter the elements of the list : \").split()))\n",
    "l = set(l)\n",
    "l = sorted(l)\n",
    "print(l[1])\n"
   ]
  },
  {
   "cell_type": "markdown",
   "metadata": {},
   "source": [
    "#### 6.  Write a Python program to find the second largest number in a list.\n"
   ]
  },
  {
   "cell_type": "code",
   "execution_count": 6,
   "metadata": {},
   "outputs": [
    {
     "name": "stdout",
     "output_type": "stream",
     "text": [
      "Enter the elements of the list : 1 2 3 4 5 6 7 8\n",
      "7\n"
     ]
    }
   ],
   "source": [
    "l = list(map(int,input(\"Enter the elements of the list : \").split()))\n",
    "l = set(l)\n",
    "l = sorted(l)\n",
    "print(l[len(l)-2])"
   ]
  },
  {
   "cell_type": "markdown",
   "metadata": {},
   "source": [
    "#### 7. Write a Python program to get the frequency of the elements in a list\n"
   ]
  },
  {
   "cell_type": "code",
   "execution_count": 9,
   "metadata": {},
   "outputs": [
    {
     "name": "stdout",
     "output_type": "stream",
     "text": [
      "Enter the elements of the list : 1 2 3 4 5 6 7 2 5 1 2 \n",
      "{1: 2, 2: 3, 3: 1, 4: 1, 5: 2, 6: 1, 7: 1}\n"
     ]
    }
   ],
   "source": [
    "from collections import Counter\n",
    "l = list(map(int,input(\"Enter the elements of the list : \").split()))\n",
    "cnt = Counter(l)\n",
    "print(dict(cnt))"
   ]
  },
  {
   "cell_type": "markdown",
   "metadata": {},
   "source": [
    "#### 8. Write a Python program to convert a list of multiple integers into a single integer\n",
    "* Sample list: [11, 33, 50]\n",
    "* Expected Output: 113350\n"
   ]
  },
  {
   "cell_type": "code",
   "execution_count": 10,
   "metadata": {},
   "outputs": [
    {
     "name": "stdout",
     "output_type": "stream",
     "text": [
      "Enter the list of integers: 1 2 3 5 6\n",
      "12356\n"
     ]
    }
   ],
   "source": [
    "l = list(map(str,input(\"Enter the list of integers: \").split()))\n",
    "print(int(\"\".join(l)))"
   ]
  },
  {
   "cell_type": "markdown",
   "metadata": {},
   "source": [
    "#### 9. Write a Python program to compute the similarity between two lists.\n",
    "* Sample data: [\"red\", \"orange\", \"green\", \"blue\", \"white\"], [\"black\", \"yellow\", \"green\", \"blue\"]\n",
    "* Expected Output: \n",
    "* Color1-Color2: ['white', 'orange', 'red']\n",
    "* Color2-Color1: ['black', 'yellow']\n"
   ]
  },
  {
   "cell_type": "code",
   "execution_count": 11,
   "metadata": {},
   "outputs": [
    {
     "name": "stdout",
     "output_type": "stream",
     "text": [
      "Enter the elements of list 1: 1 2 3 4 5 6 7 8 9\n",
      "Enter the elements of list 2: 2 4 6 8 10 12\n",
      "['1', '3', '7', '9', '5']\n",
      "['10', '12']\n"
     ]
    }
   ],
   "source": [
    "l1 = list(map(str,input(\"Enter the elements of list 1: \").split()))\n",
    "l2 = list(map(str,input(\"Enter the elements of list 2: \").split()))\n",
    "print(list(set(l1)-set(l2)))\n",
    "print(list(set(l2)-set(l1)))"
   ]
  },
  {
   "cell_type": "markdown",
   "metadata": {},
   "source": [
    "#### 10. Write a Python program to check if all dictionaries in a list are empty or not.\n",
    "* Sample list : [{},{},{}]\n",
    "* Return value : True\n",
    "* Sample list : [{1,2},{},{}]\n",
    "* Return value : False\n"
   ]
  },
  {
   "cell_type": "code",
   "execution_count": 12,
   "metadata": {},
   "outputs": [
    {
     "name": "stdout",
     "output_type": "stream",
     "text": [
      "True\n",
      "False\n"
     ]
    }
   ],
   "source": [
    "l1 = [{},{},{}]\n",
    "l2 = [{1,2},{},{}]\n",
    "print(all(not d for d in l1))\n",
    "print(all(not d for d in l2))"
   ]
  },
  {
   "cell_type": "markdown",
   "metadata": {},
   "source": [
    "## Python Data Types: Dictionary\n"
   ]
  },
  {
   "cell_type": "markdown",
   "metadata": {},
   "source": [
    "#### 1. Write a Python script to generate and print a dictionary that contains a number (between 1 and n) in the form (x, x*x)\n",
    "* Sample Dictionary ( n = 5) : \n",
    "* Expected Output : {1: 1, 2: 4, 3: 9, 4: 16, 5: 25}\n"
   ]
  },
  {
   "cell_type": "code",
   "execution_count": 14,
   "metadata": {},
   "outputs": [
    {
     "name": "stdout",
     "output_type": "stream",
     "text": [
      "Enter the number upto which you want squares : 150\n",
      "{1: 1, 2: 4, 3: 9, 4: 16, 5: 25, 6: 36, 7: 49, 8: 64, 9: 81, 10: 100, 11: 121, 12: 144, 13: 169, 14: 196, 15: 225, 16: 256, 17: 289, 18: 324, 19: 361, 20: 400, 21: 441, 22: 484, 23: 529, 24: 576, 25: 625, 26: 676, 27: 729, 28: 784, 29: 841, 30: 900, 31: 961, 32: 1024, 33: 1089, 34: 1156, 35: 1225, 36: 1296, 37: 1369, 38: 1444, 39: 1521, 40: 1600, 41: 1681, 42: 1764, 43: 1849, 44: 1936, 45: 2025, 46: 2116, 47: 2209, 48: 2304, 49: 2401, 50: 2500, 51: 2601, 52: 2704, 53: 2809, 54: 2916, 55: 3025, 56: 3136, 57: 3249, 58: 3364, 59: 3481, 60: 3600, 61: 3721, 62: 3844, 63: 3969, 64: 4096, 65: 4225, 66: 4356, 67: 4489, 68: 4624, 69: 4761, 70: 4900, 71: 5041, 72: 5184, 73: 5329, 74: 5476, 75: 5625, 76: 5776, 77: 5929, 78: 6084, 79: 6241, 80: 6400, 81: 6561, 82: 6724, 83: 6889, 84: 7056, 85: 7225, 86: 7396, 87: 7569, 88: 7744, 89: 7921, 90: 8100, 91: 8281, 92: 8464, 93: 8649, 94: 8836, 95: 9025, 96: 9216, 97: 9409, 98: 9604, 99: 9801, 100: 10000, 101: 10201, 102: 10404, 103: 10609, 104: 10816, 105: 11025, 106: 11236, 107: 11449, 108: 11664, 109: 11881, 110: 12100, 111: 12321, 112: 12544, 113: 12769, 114: 12996, 115: 13225, 116: 13456, 117: 13689, 118: 13924, 119: 14161, 120: 14400, 121: 14641, 122: 14884, 123: 15129, 124: 15376, 125: 15625, 126: 15876, 127: 16129, 128: 16384, 129: 16641, 130: 16900, 131: 17161, 132: 17424, 133: 17689, 134: 17956, 135: 18225, 136: 18496, 137: 18769, 138: 19044, 139: 19321, 140: 19600, 141: 19881, 142: 20164, 143: 20449, 144: 20736, 145: 21025, 146: 21316, 147: 21609, 148: 21904, 149: 22201, 150: 22500}\n"
     ]
    }
   ],
   "source": [
    "n = int(input(\"Enter the number upto which you want squares : \"))\n",
    "d=dict()\n",
    "for x in range(1,n+1):\n",
    "    d[x]=x**2\n",
    "print(d)"
   ]
  },
  {
   "cell_type": "markdown",
   "metadata": {},
   "source": [
    "#### 2. Write a Python program to combine two dictionary adding values for common keys\n",
    "* d1 = {'a': 100, 'b': 200, 'c':300}\n",
    "* d2 = {'a': 300, 'b': 200, 'd':400}\n",
    "* Sample output: Counter({'a': 400, 'b': 400, 'd': 400, 'c': 300})\n"
   ]
  },
  {
   "cell_type": "code",
   "execution_count": 18,
   "metadata": {},
   "outputs": [
    {
     "name": "stdout",
     "output_type": "stream",
     "text": [
      "{'a': 5, 'b': 7, 'c': 3, 'd': 6}\n"
     ]
    }
   ],
   "source": [
    "from collections import Counter \n",
    "d1 = {'a': 1, 'b': 2, 'c':3}\n",
    "d2 = {'a': 4, 'b': 5, 'd':6}         \n",
    "print(dict(Counter(d1) + Counter(d2)))"
   ]
  },
  {
   "cell_type": "markdown",
   "metadata": {},
   "source": [
    "#### 3. Write a Python program to print all unique values in a dictionary\n",
    "* Sample Data : [{\"V\":\"S001\"}, {\"V\": \"S002\"}, {\"VI\": \"S001\"}, {\"VI\": \"S005\"}, {\"VII\":\"S005\"}, {\"V\":\"S009\"},{\"VIII\":\"S007\"}]\n",
    "* Expected Output : Unique Values: {'S005', 'S002', 'S007', 'S001', 'S009'}\n"
   ]
  },
  {
   "cell_type": "code",
   "execution_count": 19,
   "metadata": {},
   "outputs": [
    {
     "name": "stdout",
     "output_type": "stream",
     "text": [
      "Unique Values:  {'S007', 'S005', 'S001', 'S009', 'S002'}\n"
     ]
    }
   ],
   "source": [
    "l = [{\"V\":\"S001\"}, {\"V\": \"S002\"}, {\"VI\": \"S001\"}, {\"VI\": \"S005\"}, {\"VII\":\"S005\"}, {\"V\":\"S009\"},{\"VIII\":\"S007\"}]\n",
    "value = set( val for i in l for val in i.values())\n",
    "print(\"Unique Values: \",value)"
   ]
  },
  {
   "cell_type": "markdown",
   "metadata": {},
   "source": [
    "#### 4. Write a Python program to create and display all combinations of letters, selecting each letter from a different key in a dictionary.\n",
    "* Sample data : {'1':['a','b'], '2':['c','d']}\n",
    "###### Expected Output: \n",
    "ac\n",
    "ad\n",
    "bc\n",
    "bd\n"
   ]
  },
  {
   "cell_type": "code",
   "execution_count": 21,
   "metadata": {},
   "outputs": [
    {
     "name": "stdout",
     "output_type": "stream",
     "text": [
      "ac ad bc bd "
     ]
    }
   ],
   "source": [
    "import itertools      \n",
    "d ={'1':['a','b'], '2':['c','d']}\n",
    "for combo in itertools.product(*[d[k] for k in sorted(d.keys())]):\n",
    "    print(''.join(combo),end = \" \")"
   ]
  },
  {
   "cell_type": "markdown",
   "metadata": {},
   "source": [
    "#### 5. Write a Python program to create a dictionary from a string.\n",
    "* Note: Track the count of the letters from the string.\n",
    "* Sample string : 'w3resource'\n",
    "* Expected output: {'3': 1, 's': 1, 'r': 2, 'u': 1, 'w': 1, 'c': 1, 'e': 2, 'o': 1}\n"
   ]
  },
  {
   "cell_type": "code",
   "execution_count": 22,
   "metadata": {},
   "outputs": [
    {
     "name": "stdout",
     "output_type": "stream",
     "text": [
      "Enter a string : w3resource\n",
      "{'w': 1, '3': 1, 'r': 2, 'e': 2, 's': 1, 'o': 1, 'u': 1, 'c': 1}\n"
     ]
    }
   ],
   "source": [
    "from collections import Counter\n",
    "l = input(\"Enter a string : \")\n",
    "count = Counter(l)\n",
    "print(dict(count))"
   ]
  },
  {
   "cell_type": "markdown",
   "metadata": {},
   "source": [
    "#### 6. Write a Python program to count the values associated with key in a dictionary.\n",
    "* Sample data: = [{'id': 1, 'success': True, 'name': 'Lary'}, {'id': 2, 'success': False, 'name': 'Rabi'}, {'id': 3, 'success': True, 'name': 'Alex'}]\n",
    "* Expected result: Count of how many dictionaries have success as True\n"
   ]
  },
  {
   "cell_type": "code",
   "execution_count": 23,
   "metadata": {},
   "outputs": [
    {
     "name": "stdout",
     "output_type": "stream",
     "text": [
      "2\n"
     ]
    }
   ],
   "source": [
    "student = [{'id': 1, 'success': True, 'name': 'Lary'}, {'id': 2, 'success': False, 'name': 'Rabi'}, {'id': 3, 'success': True, 'name': 'Alex'}]\n",
    "print(sum(s['success'] for s in student))"
   ]
  },
  {
   "cell_type": "markdown",
   "metadata": {},
   "source": [
    "#### 7. Write a Python program to convert a list into a nested dictionary of keys.\n"
   ]
  },
  {
   "cell_type": "code",
   "execution_count": 26,
   "metadata": {},
   "outputs": [
    {
     "name": "stdout",
     "output_type": "stream",
     "text": [
      "Enter the elements of the list : 123456789\n",
      "{'1': {'2': {'3': {'4': {'5': {'6': {'7': {'8': {'9': {}}}}}}}}}}\n"
     ]
    }
   ],
   "source": [
    "num = list(input(\"Enter the elements of the list : \"))\n",
    "d = cur = {}\n",
    "for i in num:\n",
    "    cur[i] = {}\n",
    "    cur = cur[i]\n",
    "print(d)"
   ]
  },
  {
   "cell_type": "markdown",
   "metadata": {},
   "source": [
    "#### 8. Write a Python program to sort a list alphabetically in a dictionary.\n"
   ]
  },
  {
   "cell_type": "code",
   "execution_count": 28,
   "metadata": {},
   "outputs": [
    {
     "name": "stdout",
     "output_type": "stream",
     "text": [
      "{'n1': [7, 19, 69], 'n2': [5, 71, 101], 'n3': [16, 35, 95]}\n"
     ]
    }
   ],
   "source": [
    "number = {'n1': [69, 7, 19], 'n2': [71, 5, 101], 'n3': [95, 35, 16]}\n",
    "sorted_number = {x: sorted(y) for x, y in number.items()}\n",
    "print(sorted_number)"
   ]
  },
  {
   "cell_type": "markdown",
   "metadata": {},
   "source": [
    "\n",
    "#### 9. Write a Python program to sort Counter by value.\n",
    "* Sample data : {'Math':81, 'Physics':83, 'Chemistry':87}\n",
    "* Expected data: [('Chemistry', 87), ('Physics', 83), ('Math', 81)]\n"
   ]
  },
  {
   "cell_type": "code",
   "execution_count": 31,
   "metadata": {},
   "outputs": [
    {
     "name": "stdout",
     "output_type": "stream",
     "text": [
      "[('Chemistry', 87), ('Physics', 83), ('Math', 81)]\n"
     ]
    }
   ],
   "source": [
    "from collections import Counter\n",
    "x = Counter({'Math':81, 'Physics':83, 'Chemistry':87})\n",
    "print(x.most_common())"
   ]
  },
  {
   "cell_type": "markdown",
   "metadata": {},
   "source": [
    "#### 10. Write a Python program to match key values in two dictionaries. Go to the editor\n",
    "* Sample dictionary: {'key1': 1, 'key2': 3, 'key3': 2}, {'key1': 1, 'key2': 2}\n",
    "* Expected output: key1: 1 is present in both x and y\n"
   ]
  },
  {
   "cell_type": "code",
   "execution_count": 32,
   "metadata": {},
   "outputs": [
    {
     "name": "stdout",
     "output_type": "stream",
     "text": [
      "key1: 1 is present in both x and y\n"
     ]
    }
   ],
   "source": [
    "x = {'key1': 1, 'key2': 3, 'key3': 2}\n",
    "y = {'key1': 1, 'key2': 2}\n",
    "for (key, value) in set(x.items()) & set(y.items()):\n",
    "    print('%s: %s is present in both x and y' % (key, value))"
   ]
  },
  {
   "cell_type": "markdown",
   "metadata": {},
   "source": [
    "### Python Data Types: Tuple - Exercises\n"
   ]
  },
  {
   "cell_type": "markdown",
   "metadata": {},
   "source": [
    "#### 1. Write a Python program to create a tuple with different data types.\n"
   ]
  },
  {
   "cell_type": "code",
   "execution_count": 35,
   "metadata": {},
   "outputs": [
    {
     "name": "stdout",
     "output_type": "stream",
     "text": [
      "(True, [1, 2, 3], {4, 5, 6}, 'Siddhu', 101, 1.5, 5160)\n"
     ]
    }
   ],
   "source": [
    "print((True, [1,2,3], {4,5,6}, \"Siddhu\", 101, 1.5, 5160))"
   ]
  },
  {
   "cell_type": "markdown",
   "metadata": {},
   "source": [
    " #### 2. Write a Python program to add an item in a tuple\n"
   ]
  },
  {
   "cell_type": "code",
   "execution_count": 55,
   "metadata": {},
   "outputs": [
    {
     "name": "stdout",
     "output_type": "stream",
     "text": [
      "(4, 5, 8, 3, 1, 30)\n"
     ]
    }
   ],
   "source": [
    "l = list((2, 5, 9, 3, 1)) \n",
    "l.append(30)\n",
    "print(tuple(l))"
   ]
  },
  {
   "cell_type": "markdown",
   "metadata": {},
   "source": [
    " #### 3. Write a Python program to convert a tuple to a string. \n"
   ]
  },
  {
   "cell_type": "code",
   "execution_count": 57,
   "metadata": {},
   "outputs": [
    {
     "name": "stdout",
     "output_type": "stream",
     "text": [
      "(4, 5, 8, 3, 1)\n"
     ]
    }
   ],
   "source": [
    "s = str((2, 5, 9, 3, 1)) \n",
    "print(s)"
   ]
  },
  {
   "cell_type": "markdown",
   "metadata": {},
   "source": [
    "#### 4. Write a Python program to find the repeated items of a tuple\n"
   ]
  },
  {
   "cell_type": "code",
   "execution_count": 36,
   "metadata": {},
   "outputs": [
    {
     "name": "stdout",
     "output_type": "stream",
     "text": [
      "(2, 4, 5, 6, 2, 3, 4, 4, 7)\n",
      "3\n"
     ]
    }
   ],
   "source": [
    "tup = 2, 4, 5, 6, 2, 3, 4, 4, 7 \n",
    "print(tup)\n",
    "count = tup.count(4)\n",
    "print(count)"
   ]
  },
  {
   "cell_type": "markdown",
   "metadata": {},
   "source": [
    "#### 5. Write a Python program to find the length of a tuple.\n"
   ]
  },
  {
   "cell_type": "code",
   "execution_count": 59,
   "metadata": {},
   "outputs": [
    {
     "name": "stdout",
     "output_type": "stream",
     "text": [
      "5\n"
     ]
    }
   ],
   "source": [
    "s = (2, 5, 9, 3, 1)\n",
    "print(len(s))"
   ]
  },
  {
   "cell_type": "markdown",
   "metadata": {},
   "source": [
    "#### 6. Write a Python program to convert a tuple to a dictionary.\n"
   ]
  },
  {
   "cell_type": "code",
   "execution_count": 37,
   "metadata": {},
   "outputs": [
    {
     "name": "stdout",
     "output_type": "stream",
     "text": [
      "{'a': 1, 'b': 2, 'd': 3}\n"
     ]
    }
   ],
   "source": [
    "tup = ((1, \"a\"),(2, \"b\"), (3, \"d\"))\n",
    "print(dict((y, x) for x, y in tup))"
   ]
  },
  {
   "cell_type": "markdown",
   "metadata": {},
   "source": [
    "#### 7. Write a Python program to replace last value of tuples in a list. \n",
    "* Sample list: [(10, 20, 40), (40, 50, 60), (70, 80, 90)]\n",
    "* Expected Output: [(10, 20, 100), (40, 50, 100), (70, 80, 100)]\n"
   ]
  },
  {
   "cell_type": "code",
   "execution_count": 38,
   "metadata": {},
   "outputs": [
    {
     "name": "stdout",
     "output_type": "stream",
     "text": [
      "[(10, 20, 100), (40, 50, 100), (70, 80, 100)]\n"
     ]
    }
   ],
   "source": [
    "l = [(10, 20, 40), (40, 50, 60), (70, 80, 90)]\n",
    "print([i[:-1] + (100,) for i in l])"
   ]
  },
  {
   "cell_type": "markdown",
   "metadata": {},
   "source": [
    "#### 8. Write a Python program to replace last value of tuples in a list. \n",
    "* Sample data: [(), (), ('',), ('a', 'b'), ('a', 'b', 'c'), ('d')]\n",
    "* Expected output: [('',), ('a', 'b'), ('a', 'b', 'c'), 'd']\n"
   ]
  },
  {
   "cell_type": "code",
   "execution_count": 39,
   "metadata": {},
   "outputs": [
    {
     "name": "stdout",
     "output_type": "stream",
     "text": [
      "[('',), ('a', 'b'), ('a', 'b', 'c'), 'd']\n"
     ]
    }
   ],
   "source": [
    "tuples = [(), (), ('',), ('a', 'b'), ('a', 'b', 'c'), ('d')]\n",
    "print([t for t in tuples if t])"
   ]
  },
  {
   "cell_type": "markdown",
   "metadata": {},
   "source": [
    "#### 9. Write a Python program to sort a tuple by its float element.\n",
    "* Sample data: [('item1', '12.20'), ('item2', '15.10'), ('item3', '24.5')]\n",
    "* Expected Output: [('item3', '24.5'), ('item2', '15.10'), ('item1', '12.20')]\n"
   ]
  },
  {
   "cell_type": "code",
   "execution_count": 40,
   "metadata": {},
   "outputs": [
    {
     "name": "stdout",
     "output_type": "stream",
     "text": [
      "[('item3', '24.5'), ('item2', '15.10'), ('item1', '12.20')]\n"
     ]
    }
   ],
   "source": [
    "tup = [('item1', '12.20'), ('item2', '15.10'), ('item3', '24.5')]\n",
    "tup.sort(key = lambda x: float(x[1]), reverse = True) \n",
    "print(tup)"
   ]
  },
  {
   "cell_type": "markdown",
   "metadata": {},
   "source": [
    "#### 10. Write a Python program to count the elements in a list until an element is a tuple\n"
   ]
  },
  {
   "cell_type": "code",
   "execution_count": 42,
   "metadata": {},
   "outputs": [
    {
     "name": "stdout",
     "output_type": "stream",
     "text": [
      "3\n"
     ]
    }
   ],
   "source": [
    "numbers = [10,20,30,(10,20),40]\n",
    "ele = 0\n",
    "for n in numbers:\n",
    "    if isinstance(n, tuple):\n",
    "        break\n",
    "    ele += 1\n",
    "print(ele)"
   ]
  },
  {
   "cell_type": "markdown",
   "metadata": {},
   "source": [
    "### Python Conditional Statements and loops\n",
    "\n"
   ]
  },
  {
   "cell_type": "markdown",
   "metadata": {},
   "source": [
    "#### 1. Write a Python program to count the number of even and odd numbers from a series of numbers. \n",
    "* Sample numbers : numbers = (1, 2, 3, 4, 5, 6, 7, 8, 9) \n",
    "##### Expected Output : \n",
    "* Number of even numbers : 5\n",
    "* Number of odd numbers : 4\n"
   ]
  },
  {
   "cell_type": "code",
   "execution_count": 61,
   "metadata": {},
   "outputs": [
    {
     "name": "stdout",
     "output_type": "stream",
     "text": [
      "Enter some random numbers : 1 2 3 4 5 6 84 521 95 3 61492 30 2 3 56 7 9 4 65 \n",
      "Number of even numbers : 9\n",
      "Number of odd numbers : 10\n"
     ]
    }
   ],
   "source": [
    "l = list(map(int,input(\"Enter some random numbers : \").split()))\n",
    "count = len([i for i in l if i%2==0])\n",
    "print(\"Number of even numbers :\", count)\n",
    "print(\"Number of odd numbers :\", len(l)-count)"
   ]
  },
  {
   "cell_type": "markdown",
   "metadata": {},
   "source": [
    "####  2. Write a Python program that prints all the numbers from 0 to 6 except 3 and 6.\n",
    "* Note : Use 'continue' statement. \n",
    "* Expected Output : 0 1 2 4 5 \n"
   ]
  },
  {
   "cell_type": "code",
   "execution_count": 44,
   "metadata": {},
   "outputs": [
    {
     "name": "stdout",
     "output_type": "stream",
     "text": [
      "0 1 2 4 5\n"
     ]
    }
   ],
   "source": [
    "print(\" \".join([str(i) for i in range(0,7) if (i!=3 and i!=6)]))"
   ]
  },
  {
   "cell_type": "markdown",
   "metadata": {},
   "source": [
    "#### 3. Write a Python program to get the Fibonacci series between 0 to 50. \n",
    "##### Note : The Fibonacci Sequence is the series of numbers :\n",
    "* 0, 1, 1, 2, 3, 5, 8, 13, 21, .... \n",
    "* Every next number is found by adding up the two numbers before it.\n",
    "* Expected Output : 1 1 2 3 5 8 13 21 34\n"
   ]
  },
  {
   "cell_type": "code",
   "execution_count": 60,
   "metadata": {},
   "outputs": [
    {
     "name": "stdout",
     "output_type": "stream",
     "text": [
      "1 1 2 3 5 8 13 21 34 "
     ]
    }
   ],
   "source": [
    "a,b=0,1\n",
    "while b<50:\n",
    "    print(b, end =\" \")\n",
    "    a,b = b,a+b"
   ]
  },
  {
   "cell_type": "markdown",
   "metadata": {},
   "source": [
    "#### 4. Write a Python program to find numbers between 100 and 400 (both included) where each digit of a number is an even number. The numbers obtained should be printed in a comma-separated sequence\n"
   ]
  },
  {
   "cell_type": "code",
   "execution_count": 59,
   "metadata": {},
   "outputs": [
    {
     "name": "stdout",
     "output_type": "stream",
     "text": [
      "200,202,204,206,208,220,222,224,226,228,240,242,244,246,248,260,262,264,266,268,280,282,284,286,288,400\n"
     ]
    }
   ],
   "source": [
    "num = []\n",
    "for i in range(200, 300):\n",
    "    s = str(i)\n",
    "    if (int(s[0])%2==0) and (int(s[1])%2==0) and (int(s[2])%2==0):\n",
    "        num.append(s)\n",
    "num.append(str(400))\n",
    "print( \",\".join(num))"
   ]
  },
  {
   "cell_type": "markdown",
   "metadata": {},
   "source": [
    "#### 5. Write a Python program to create the multiplication table (from 1 to 10) of a number.\n"
   ]
  },
  {
   "cell_type": "code",
   "execution_count": 26,
   "metadata": {},
   "outputs": [
    {
     "name": "stdout",
     "output_type": "stream",
     "text": [
      "5\n",
      "5 * 1 = 5\n",
      "5 * 2 = 10\n",
      "5 * 3 = 15\n",
      "5 * 4 = 20\n",
      "5 * 5 = 25\n",
      "5 * 6 = 30\n",
      "5 * 7 = 35\n",
      "5 * 8 = 40\n",
      "5 * 9 = 45\n",
      "5 * 10 = 50\n"
     ]
    }
   ],
   "source": [
    "num = int(input())\n",
    "for i in range(1,11):\n",
    "    print(num,\"*\",i,\"=\",num*i)"
   ]
  },
  {
   "cell_type": "markdown",
   "metadata": {},
   "source": [
    "### Python functions - Exercises\n"
   ]
  },
  {
   "cell_type": "markdown",
   "metadata": {},
   "source": [
    "#### 1. Write a Python function to find the Max of three numbers.\n"
   ]
  },
  {
   "cell_type": "code",
   "execution_count": 58,
   "metadata": {},
   "outputs": [
    {
     "name": "stdout",
     "output_type": "stream",
     "text": [
      "7\n"
     ]
    }
   ],
   "source": [
    "def maximum(nums):\n",
    "    return max(nums)\n",
    "\n",
    "print(maximum([1,7,-11]))"
   ]
  },
  {
   "cell_type": "markdown",
   "metadata": {},
   "source": [
    "#### 2.  Write a Python function to sum all the numbers in a list\n"
   ]
  },
  {
   "cell_type": "code",
   "execution_count": 57,
   "metadata": {},
   "outputs": [
    {
     "name": "stdout",
     "output_type": "stream",
     "text": [
      "-3\n"
     ]
    }
   ],
   "source": [
    "def add(nums):\n",
    "    return sum(nums)\n",
    "\n",
    "print(add([1,7,-11]))"
   ]
  },
  {
   "cell_type": "markdown",
   "metadata": {},
   "source": [
    "#### 3. Write a Python function to multiply all the numbers in a list\n"
   ]
  },
  {
   "cell_type": "code",
   "execution_count": 56,
   "metadata": {},
   "outputs": [
    {
     "name": "stdout",
     "output_type": "stream",
     "text": [
      "196\n"
     ]
    }
   ],
   "source": [
    "def multiply(nums):\n",
    "    prod = 1\n",
    "    for i in nums:\n",
    "        prod*=i\n",
    "    return prod \n",
    "\n",
    "print(multiply([2,7,14]))"
   ]
  },
  {
   "cell_type": "markdown",
   "metadata": {},
   "source": [
    "#### 4. Write a Python function that accepts a string and calculate the number of upper case letters and lower case letters\n"
   ]
  },
  {
   "cell_type": "code",
   "execution_count": 46,
   "metadata": {},
   "outputs": [
    {
     "name": "stdout",
     "output_type": "stream",
     "text": [
      "Enter a string : JamEs BONd \n",
      "[7, 4]\n"
     ]
    }
   ],
   "source": [
    "def UpperAndLower(string):\n",
    "    count = 0\n",
    "    for i in string:\n",
    "        if i.upper() == i:\n",
    "            count+=1\n",
    "    return [count,len(string)-count]\n",
    "print(UpperAndLower(input(\"Enter a string : \")))"
   ]
  },
  {
   "cell_type": "markdown",
   "metadata": {},
   "source": [
    "#### 5. Write a Python program to print the even numbers from a given list\n"
   ]
  },
  {
   "cell_type": "code",
   "execution_count": 45,
   "metadata": {},
   "outputs": [
    {
     "name": "stdout",
     "output_type": "stream",
     "text": [
      "Enter some random elements of list :  1 2 3 4 5 6 7 8 9 10 11 12 13 14 15\n",
      "[2, 4, 6, 8, 10, 12, 14]\n"
     ]
    }
   ],
   "source": [
    "l = list(map(int,input(\"Enter some random elements of list : \").split()))\n",
    "print([i for i in l if i%2==0])"
   ]
  },
  {
   "cell_type": "markdown",
   "metadata": {},
   "source": []
  },
  {
   "cell_type": "code",
   "execution_count": null,
   "metadata": {},
   "outputs": [],
   "source": []
  }
 ],
 "metadata": {
  "kernelspec": {
   "display_name": "Python 3",
   "language": "python",
   "name": "python3"
  },
  "language_info": {
   "codemirror_mode": {
    "name": "ipython",
    "version": 3
   },
   "file_extension": ".py",
   "mimetype": "text/x-python",
   "name": "python",
   "nbconvert_exporter": "python",
   "pygments_lexer": "ipython3",
   "version": "3.7.4"
  }
 },
 "nbformat": 4,
 "nbformat_minor": 2
}
